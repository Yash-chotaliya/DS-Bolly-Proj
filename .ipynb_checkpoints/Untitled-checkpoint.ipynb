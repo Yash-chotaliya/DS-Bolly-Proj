{
 "cells": [
  {
   "cell_type": "code",
   "execution_count": 1,
   "id": "7972b5c1",
   "metadata": {},
   "outputs": [],
   "source": [
    "import pandas as pd\n",
    "import numpy as np"
   ]
  },
  {
   "cell_type": "code",
   "execution_count": 3,
   "id": "1907f7d9",
   "metadata": {},
   "outputs": [],
   "source": [
    "datas = pd.read_csv(\"D:\\\\Data Science\\\\datasets\\\\top 1000 bolly movie\\\\base.csv\")"
   ]
  },
  {
   "cell_type": "code",
   "execution_count": null,
   "id": "6db86d1a",
   "metadata": {},
   "outputs": [],
   "source": []
  },
  {
   "cell_type": "code",
   "execution_count": null,
   "id": "99bfa194",
   "metadata": {},
   "outputs": [],
   "source": []
  }
 ],
 "metadata": {
  "kernelspec": {
   "display_name": "Python 3 (ipykernel)",
   "language": "python",
   "name": "python3"
  },
  "language_info": {
   "codemirror_mode": {
    "name": "ipython",
    "version": 3
   },
   "file_extension": ".py",
   "mimetype": "text/x-python",
   "name": "python",
   "nbconvert_exporter": "python",
   "pygments_lexer": "ipython3",
   "version": "3.11.2"
  }
 },
 "nbformat": 4,
 "nbformat_minor": 5
}

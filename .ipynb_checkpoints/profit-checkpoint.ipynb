{
 "cells": [
  {
   "cell_type": "code",
   "execution_count": 1,
   "id": "65298050",
   "metadata": {},
   "outputs": [],
   "source": [
    "import pandas as pd\n",
    "import numpy as np\n",
    "import matplotlib.pyplot as plt\n",
    "\n",
    "datas = pd.read_csv(\"D:\\\\DS Proj\\\\top 1000 bolly movies\\\\dataset\\\\mod1.csv\")\n",
    "datas.set_index(datas.index+1,inplace = True)"
   ]
  },
  {
   "cell_type": "code",
   "execution_count": 2,
   "id": "93394622",
   "metadata": {},
   "outputs": [
    {
     "data": {
      "text/html": [
       "<div>\n",
       "<style scoped>\n",
       "    .dataframe tbody tr th:only-of-type {\n",
       "        vertical-align: middle;\n",
       "    }\n",
       "\n",
       "    .dataframe tbody tr th {\n",
       "        vertical-align: top;\n",
       "    }\n",
       "\n",
       "    .dataframe thead th {\n",
       "        text-align: right;\n",
       "    }\n",
       "</style>\n",
       "<table border=\"1\" class=\"dataframe\">\n",
       "  <thead>\n",
       "    <tr style=\"text-align: right;\">\n",
       "      <th></th>\n",
       "      <th>Movie</th>\n",
       "      <th>Worldwide</th>\n",
       "      <th>India Net</th>\n",
       "      <th>India Gross</th>\n",
       "      <th>Overseas</th>\n",
       "      <th>Budget</th>\n",
       "      <th>Verdict</th>\n",
       "      <th>Profit</th>\n",
       "    </tr>\n",
       "  </thead>\n",
       "  <tbody>\n",
       "    <tr>\n",
       "      <th>79</th>\n",
       "      <td>Avengers End Game</td>\n",
       "      <td>18970.0</td>\n",
       "      <td>116.0</td>\n",
       "      <td>445.0</td>\n",
       "      <td>13335.0</td>\n",
       "      <td>2500.0</td>\n",
       "      <td>All Time Blockbuster</td>\n",
       "      <td>16470.0</td>\n",
       "    </tr>\n",
       "    <tr>\n",
       "      <th>67</th>\n",
       "      <td>Avatar: The Way of Water</td>\n",
       "      <td>17380.0</td>\n",
       "      <td>127.0</td>\n",
       "      <td>477.0</td>\n",
       "      <td>16902.0</td>\n",
       "      <td>3200.0</td>\n",
       "      <td>Blockbuster</td>\n",
       "      <td>14180.0</td>\n",
       "    </tr>\n",
       "    <tr>\n",
       "      <th>713</th>\n",
       "      <td>Top Gun: Maverick</td>\n",
       "      <td>12250.0</td>\n",
       "      <td>5.0</td>\n",
       "      <td>51.0</td>\n",
       "      <td>12199.0</td>\n",
       "      <td>1300.0</td>\n",
       "      <td>Hit</td>\n",
       "      <td>10950.0</td>\n",
       "    </tr>\n",
       "    <tr>\n",
       "      <th>466</th>\n",
       "      <td>Black Panther: Wakanda Forever</td>\n",
       "      <td>6634.0</td>\n",
       "      <td>21.0</td>\n",
       "      <td>87.0</td>\n",
       "      <td>6546.0</td>\n",
       "      <td>1250.0</td>\n",
       "      <td>Hit</td>\n",
       "      <td>5384.0</td>\n",
       "    </tr>\n",
       "    <tr>\n",
       "      <th>368</th>\n",
       "      <td>Thor: Love And Thunder</td>\n",
       "      <td>5550.0</td>\n",
       "      <td>29.0</td>\n",
       "      <td>127.0</td>\n",
       "      <td>3050.0</td>\n",
       "      <td>1900.0</td>\n",
       "      <td>Hit</td>\n",
       "      <td>3650.0</td>\n",
       "    </tr>\n",
       "    <tr>\n",
       "      <th>387</th>\n",
       "      <td>Doctor Strange In The Multiverse Of Madness</td>\n",
       "      <td>5400.0</td>\n",
       "      <td>28.0</td>\n",
       "      <td>147.0</td>\n",
       "      <td>3100.0</td>\n",
       "      <td>1500.0</td>\n",
       "      <td>Average</td>\n",
       "      <td>3900.0</td>\n",
       "    </tr>\n",
       "    <tr>\n",
       "      <th>591</th>\n",
       "      <td>Ant-Man and the Wasp: Quantumania</td>\n",
       "      <td>3890.0</td>\n",
       "      <td>13.0</td>\n",
       "      <td>55.0</td>\n",
       "      <td>2155.0</td>\n",
       "      <td>1500.0</td>\n",
       "      <td>Average</td>\n",
       "      <td>2390.0</td>\n",
       "    </tr>\n",
       "    <tr>\n",
       "      <th>648</th>\n",
       "      <td>John Wick: Chapter 4</td>\n",
       "      <td>3050.0</td>\n",
       "      <td>10.0</td>\n",
       "      <td>61.0</td>\n",
       "      <td>1635.0</td>\n",
       "      <td>900.0</td>\n",
       "      <td>Hit</td>\n",
       "      <td>2150.0</td>\n",
       "    </tr>\n",
       "    <tr>\n",
       "      <th>694</th>\n",
       "      <td>Godzilla vs. Kong</td>\n",
       "      <td>2500.0</td>\n",
       "      <td>7.0</td>\n",
       "      <td>55.0</td>\n",
       "      <td>1900.0</td>\n",
       "      <td>1300.0</td>\n",
       "      <td>Hit</td>\n",
       "      <td>1200.0</td>\n",
       "    </tr>\n",
       "    <tr>\n",
       "      <th>4</th>\n",
       "      <td>Dangal</td>\n",
       "      <td>2070.0</td>\n",
       "      <td>374.0</td>\n",
       "      <td>535.0</td>\n",
       "      <td>1535.0</td>\n",
       "      <td>70.0</td>\n",
       "      <td>All Time Blockbuster</td>\n",
       "      <td>2000.0</td>\n",
       "    </tr>\n",
       "  </tbody>\n",
       "</table>\n",
       "</div>"
      ],
      "text/plain": [
       "                                           Movie  Worldwide  India Net  \\\n",
       "79                             Avengers End Game    18970.0      116.0   \n",
       "67                      Avatar: The Way of Water    17380.0      127.0   \n",
       "713                            Top Gun: Maverick    12250.0        5.0   \n",
       "466               Black Panther: Wakanda Forever     6634.0       21.0   \n",
       "368                       Thor: Love And Thunder     5550.0       29.0   \n",
       "387  Doctor Strange In The Multiverse Of Madness     5400.0       28.0   \n",
       "591            Ant-Man and the Wasp: Quantumania     3890.0       13.0   \n",
       "648                         John Wick: Chapter 4     3050.0       10.0   \n",
       "694                            Godzilla vs. Kong     2500.0        7.0   \n",
       "4                                         Dangal     2070.0      374.0   \n",
       "\n",
       "     India Gross  Overseas  Budget               Verdict   Profit  \n",
       "79         445.0   13335.0  2500.0  All Time Blockbuster  16470.0  \n",
       "67         477.0   16902.0  3200.0           Blockbuster  14180.0  \n",
       "713         51.0   12199.0  1300.0                   Hit  10950.0  \n",
       "466         87.0    6546.0  1250.0                   Hit   5384.0  \n",
       "368        127.0    3050.0  1900.0                   Hit   3650.0  \n",
       "387        147.0    3100.0  1500.0               Average   3900.0  \n",
       "591         55.0    2155.0  1500.0               Average   2390.0  \n",
       "648         61.0    1635.0   900.0                   Hit   2150.0  \n",
       "694         55.0    1900.0  1300.0                   Hit   1200.0  \n",
       "4          535.0    1535.0    70.0  All Time Blockbuster   2000.0  "
      ]
     },
     "execution_count": 2,
     "metadata": {},
     "output_type": "execute_result"
    }
   ],
   "source": [
    "datas['Profit'] = datas['Worldwide']-datas['Budget']\n",
    "df = datas.sort_values(by = 'Worldwide',ascending=False).head(10)\n",
    "df"
   ]
  },
  {
   "cell_type": "code",
   "execution_count": 3,
   "id": "b3b1ab6f",
   "metadata": {},
   "outputs": [
    {
     "data": {
      "text/plain": [
       "array([ 1,  2,  3,  4,  5,  6,  7,  8,  9, 10])"
      ]
     },
     "execution_count": 3,
     "metadata": {},
     "output_type": "execute_result"
    }
   ],
   "source": [
    "xpos = np.arange(len(df))+1\n",
    "profit = df['Profit']\n",
    "budget = df['Budget']\n",
    "xpos"
   ]
  },
  {
   "cell_type": "code",
   "execution_count": 4,
   "id": "d846fc6a",
   "metadata": {},
   "outputs": [
    {
     "data": {
      "image/png": "[encoded data removed]",
      "text/plain": [
       "<Figure size 640x480 with 1 Axes>"
      ]
     },
     "metadata": {},
     "output_type": "display_data"
    },
    {
     "data": {
      "text/plain": [
       "{1: 'Avengers End Game',\n",
       " 2: 'Avatar: The Way of Water',\n",
       " 3: 'Top Gun: Maverick',\n",
       " 4: 'Black Panther: Wakanda Forever',\n",
       " 5: 'Thor: Love And Thunder',\n",
       " 6: 'Doctor Strange In The Multiverse Of Madness',\n",
       " 7: 'Ant-Man and the Wasp: Quantumania',\n",
       " 8: 'John Wick: Chapter 4',\n",
       " 9: 'Godzilla vs. Kong',\n",
       " 10: 'Dangal'}"
      ]
     },
     "execution_count": 4,
     "metadata": {},
     "output_type": "execute_result"
    }
   ],
   "source": [
    "plt.title('Profit x Budget')\n",
    "plt.ylabel('Amount [Crore]')\n",
    "plt.bar(xpos-0.2,profit,width=0.4,label='Profit')\n",
    "plt.bar(xpos+0.2,budget,width=0.4,label='Budget')\n",
    "plt.legend()\n",
    "plt.show()\n",
    "\n",
    "list = {}\n",
    "for i in xpos:\n",
    "    list[i] = df['Movie'].iloc[i-1]\n",
    "list"
   ]
  }
 ],
 "metadata": {
  "kernelspec": {
   "display_name": "Python 3 (ipykernel)",
   "language": "python",
   "name": "python3"
  },
  "language_info": {
   "codemirror_mode": {
    "name": "ipython",
    "version": 3
   },
   "file_extension": ".py",
   "mimetype": "text/x-python",
   "name": "python",
   "nbconvert_exporter": "python",
   "pygments_lexer": "ipython3",
   "version": "3.11.2"
  }
 },
 "nbformat": 4,
 "nbformat_minor": 5
}

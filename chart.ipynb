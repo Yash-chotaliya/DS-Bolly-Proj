{
 "cells": [
  {
   "cell_type": "markdown",
   "id": "ee248e07",
   "metadata": {},
   "source": [
    "# import lib. and read csv"
   ]
  },
  {
   "cell_type": "code",
   "execution_count": 1,
   "id": "60f00cee",
   "metadata": {},
   "outputs": [
    {
     "data": {
      "text/html": [
       "<div>\n",
       "<style scoped>\n",
       "    .dataframe tbody tr th:only-of-type {\n",
       "        vertical-align: middle;\n",
       "    }\n",
       "\n",
       "    .dataframe tbody tr th {\n",
       "        vertical-align: top;\n",
       "    }\n",
       "\n",
       "    .dataframe thead th {\n",
       "        text-align: right;\n",
       "    }\n",
       "</style>\n",
       "<table border=\"1\" class=\"dataframe\">\n",
       "  <thead>\n",
       "    <tr style=\"text-align: right;\">\n",
       "      <th></th>\n",
       "      <th>Movie</th>\n",
       "      <th>Worldwide</th>\n",
       "      <th>India Net</th>\n",
       "      <th>India Gross</th>\n",
       "      <th>Overseas</th>\n",
       "      <th>Budget</th>\n",
       "      <th>Verdict</th>\n",
       "    </tr>\n",
       "  </thead>\n",
       "  <tbody>\n",
       "    <tr>\n",
       "      <th>1</th>\n",
       "      <td>Pathaan</td>\n",
       "      <td>1050.0</td>\n",
       "      <td>524.0</td>\n",
       "      <td>657.0</td>\n",
       "      <td>392.0</td>\n",
       "      <td>250.0</td>\n",
       "      <td>All Time Blockbuster</td>\n",
       "    </tr>\n",
       "    <tr>\n",
       "      <th>2</th>\n",
       "      <td>Baahubali 2 The Conclusion</td>\n",
       "      <td>1788.0</td>\n",
       "      <td>510.0</td>\n",
       "      <td>1416.0</td>\n",
       "      <td>371.0</td>\n",
       "      <td>250.0</td>\n",
       "      <td>All Time Blockbuster</td>\n",
       "    </tr>\n",
       "    <tr>\n",
       "      <th>3</th>\n",
       "      <td>KGF Chapter 2</td>\n",
       "      <td>1208.0</td>\n",
       "      <td>435.0</td>\n",
       "      <td>1000.0</td>\n",
       "      <td>207.0</td>\n",
       "      <td>100.0</td>\n",
       "      <td>All Time Blockbuster</td>\n",
       "    </tr>\n",
       "    <tr>\n",
       "      <th>4</th>\n",
       "      <td>Dangal</td>\n",
       "      <td>2070.0</td>\n",
       "      <td>374.0</td>\n",
       "      <td>535.0</td>\n",
       "      <td>1535.0</td>\n",
       "      <td>70.0</td>\n",
       "      <td>All Time Blockbuster</td>\n",
       "    </tr>\n",
       "    <tr>\n",
       "      <th>5</th>\n",
       "      <td>Sanju</td>\n",
       "      <td>588.0</td>\n",
       "      <td>342.0</td>\n",
       "      <td>438.0</td>\n",
       "      <td>150.0</td>\n",
       "      <td>100.0</td>\n",
       "      <td>All Time Blockbuster</td>\n",
       "    </tr>\n",
       "    <tr>\n",
       "      <th>...</th>\n",
       "      <td>...</td>\n",
       "      <td>...</td>\n",
       "      <td>...</td>\n",
       "      <td>...</td>\n",
       "      <td>...</td>\n",
       "      <td>...</td>\n",
       "      <td>...</td>\n",
       "    </tr>\n",
       "    <tr>\n",
       "      <th>744</th>\n",
       "      <td>Angaaray</td>\n",
       "      <td>5.0</td>\n",
       "      <td>2.0</td>\n",
       "      <td>3.0</td>\n",
       "      <td>1.0</td>\n",
       "      <td>3.0</td>\n",
       "      <td>Flop</td>\n",
       "    </tr>\n",
       "    <tr>\n",
       "      <th>745</th>\n",
       "      <td>Qayamat Se Qayamat Tak</td>\n",
       "      <td>5.0</td>\n",
       "      <td>2.0</td>\n",
       "      <td>4.0</td>\n",
       "      <td>1.0</td>\n",
       "      <td>1.0</td>\n",
       "      <td>SuperHit</td>\n",
       "    </tr>\n",
       "    <tr>\n",
       "      <th>746</th>\n",
       "      <td>Master</td>\n",
       "      <td>223.0</td>\n",
       "      <td>2.0</td>\n",
       "      <td>178.0</td>\n",
       "      <td>44.0</td>\n",
       "      <td>135.0</td>\n",
       "      <td>Blockbuster</td>\n",
       "    </tr>\n",
       "    <tr>\n",
       "      <th>747</th>\n",
       "      <td>Uncharted</td>\n",
       "      <td>1100.0</td>\n",
       "      <td>2.0</td>\n",
       "      <td>10.0</td>\n",
       "      <td>670.0</td>\n",
       "      <td>900.0</td>\n",
       "      <td>Flop</td>\n",
       "    </tr>\n",
       "    <tr>\n",
       "      <th>748</th>\n",
       "      <td>Pailwaan</td>\n",
       "      <td>52.0</td>\n",
       "      <td>2.0</td>\n",
       "      <td>48.0</td>\n",
       "      <td>4.0</td>\n",
       "      <td>40.0</td>\n",
       "      <td>Average</td>\n",
       "    </tr>\n",
       "  </tbody>\n",
       "</table>\n",
       "<p>748 rows × 7 columns</p>\n",
       "</div>"
      ],
      "text/plain": [
       "                          Movie  Worldwide  India Net  India Gross  Overseas  \\\n",
       "1                       Pathaan     1050.0      524.0        657.0     392.0   \n",
       "2    Baahubali 2 The Conclusion     1788.0      510.0       1416.0     371.0   \n",
       "3                 KGF Chapter 2     1208.0      435.0       1000.0     207.0   \n",
       "4                        Dangal     2070.0      374.0        535.0    1535.0   \n",
       "5                         Sanju      588.0      342.0        438.0     150.0   \n",
       "..                          ...        ...        ...          ...       ...   \n",
       "744                    Angaaray        5.0        2.0          3.0       1.0   \n",
       "745      Qayamat Se Qayamat Tak        5.0        2.0          4.0       1.0   \n",
       "746                      Master      223.0        2.0        178.0      44.0   \n",
       "747                   Uncharted     1100.0        2.0         10.0     670.0   \n",
       "748                    Pailwaan       52.0        2.0         48.0       4.0   \n",
       "\n",
       "     Budget               Verdict  \n",
       "1     250.0  All Time Blockbuster  \n",
       "2     250.0  All Time Blockbuster  \n",
       "3     100.0  All Time Blockbuster  \n",
       "4      70.0  All Time Blockbuster  \n",
       "5     100.0  All Time Blockbuster  \n",
       "..      ...                   ...  \n",
       "744     3.0                  Flop  \n",
       "745     1.0              SuperHit  \n",
       "746   135.0           Blockbuster  \n",
       "747   900.0                  Flop  \n",
       "748    40.0               Average  \n",
       "\n",
       "[748 rows x 7 columns]"
      ]
     },
     "execution_count": 1,
     "metadata": {},
     "output_type": "execute_result"
    }
   ],
   "source": [
    "import pandas as pd\n",
    "import numpy as np\n",
    "import matplotlib.pyplot as plt\n",
    "\n",
    "datas = pd.read_csv(\"D:\\\\DS Proj\\\\top 1000 bolly movies\\\\dataset\\\\mod1.csv\")\n",
    "datas.set_index(datas.index+1,inplace=True)\n",
    "datas"
   ]
  },
  {
   "cell_type": "markdown",
   "id": "efbb982d",
   "metadata": {},
   "source": [
    "# (1) count Verdict counts"
   ]
  },
  {
   "cell_type": "code",
   "execution_count": 2,
   "id": "0a469428",
   "metadata": {},
   "outputs": [
    {
     "data": {
      "text/plain": [
       "Flop                    167\n",
       "Hit                     158\n",
       "Average                 101\n",
       "SuperHit                 91\n",
       "Blockbuster              59\n",
       "Below Average            55\n",
       "Disaster                 55\n",
       "Above Average            36\n",
       "All Time Blockbuster     26\n",
       "Name: Verdict, dtype: int64"
      ]
     },
     "execution_count": 2,
     "metadata": {},
     "output_type": "execute_result"
    }
   ],
   "source": [
    "verdict_count = datas[\"Verdict\"].value_counts()\n",
    "verdict_count"
   ]
  },
  {
   "cell_type": "markdown",
   "id": "a5a4c5bf",
   "metadata": {},
   "source": [
    "# verdict data for pie chart"
   ]
  },
  {
   "cell_type": "code",
   "execution_count": 3,
   "id": "0f7310cc",
   "metadata": {},
   "outputs": [
    {
     "data": {
      "text/plain": [
       "[167, 101, 91, 26]"
      ]
     },
     "execution_count": 3,
     "metadata": {},
     "output_type": "execute_result"
    }
   ],
   "source": [
    "verdict = [verdict_count[\"Flop\"],verdict_count[\"Average\"],verdict_count[\"SuperHit\"],verdict_count[\"All Time Blockbuster\"]]\n",
    "verdict"
   ]
  },
  {
   "cell_type": "markdown",
   "id": "4950a60b",
   "metadata": {},
   "source": [
    "# pie chart for verdict data"
   ]
  },
  {
   "cell_type": "code",
   "execution_count": 4,
   "id": "2b864362",
   "metadata": {
    "scrolled": false
   },
   "outputs": [
    {
     "data": {
      "image/png": "[encoded data removed]",
      "text/plain": [
       "<Figure size 640x480 with 1 Axes>"
      ]
     },
     "metadata": {},
     "output_type": "display_data"
    }
   ],
   "source": [
    "plt.pie(verdict,labels=[\"flop\",\"average\",\"superhit\",\"all time blockbuster\"],autopct = '%.1f%%',explode=[0.1,0,0,0],startangle=270)\n",
    "plt.title(\"verdict\")\n",
    "plt.legend(bbox_to_anchor=(0,1))\n",
    "plt.show()"
   ]
  }
 ],
 "metadata": {
  "kernelspec": {
   "display_name": "Python 3 (ipykernel)",
   "language": "python",
   "name": "python3"
  },
  "language_info": {
   "codemirror_mode": {
    "name": "ipython",
    "version": 3
   },
   "file_extension": ".py",
   "mimetype": "text/x-python",
   "name": "python",
   "nbconvert_exporter": "python",
   "pygments_lexer": "ipython3",
   "version": "3.11.2"
  }
 },
 "nbformat": 4,
 "nbformat_minor": 5
}
